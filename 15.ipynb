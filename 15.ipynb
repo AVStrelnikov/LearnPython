{
 "cells": [
  {
   "cell_type": "code",
   "execution_count": 6,
   "metadata": {},
   "outputs": [
    {
     "name": "stdout",
     "output_type": "stream",
     "text": [
      "<class '_io.TextIOWrapper'>\n",
      "['EMAIL', ' NAME', ' LAST_NAME', ' TEL', ' CITY\\n'] <class 'list'>\n",
      "['', ' Ivan', ' Abramov', ' 7776514', ' Moscow\\n'] <class 'list'>\n",
      "['', ' Alexey', ' Nikolaev', ' 1348520', ' Moscow\\n'] <class 'list'>\n",
      "['', ' Marina', ' Shapar', ' 1111110', ' Moscow\\n'] <class 'list'>\n",
      "['', ' Dmitriy', ' Vasilyev', ' 0000000', ' Kazan\\n'] <class 'list'>\n",
      "['', ' Ekaterina', ' Ilyina', ' ', ' St.Petersburg\\n'] <class 'list'>\n",
      "['', ' Anastasiya', ' Grigoryan', ' 1928421', ' Ekaterinburg\\n'] <class 'list'>\n",
      "['', ' Andrey', ' Fedorov', ' 85212384', ' Minsk\\n'] <class 'list'>\n",
      "['', ' Alexey', ' Lisitsyn', ' 1239532', ' Tver\\n'] <class 'list'>\n",
      "['', ' Dariya', ' Abramova', ' 7163908', ' Moscow\\n'] <class 'list'>\n",
      "['', ' Alexandr', ' Evdokimov', ' 482', ' Volokolamsk\\n'] <class 'list'>\n",
      "['', ' Nataliya', ' Kostina', ' 9031433', ' Moscow\\n'] <class 'list'>\n",
      "['', ' Nikolay', ' Ermolin', ' 8539233', ' St.Petersburg\\n'] <class 'list'>\n",
      "['', ' ', ' ', ' ', ' \\n'] <class 'list'>\n",
      "['', ' Vladimir', ' Solovovo', ' 4758395', ' St.Petersburg\\n'] <class 'list'>\n",
      "['', ' Vladimir', ' Ivanov', ' 4827594', ' Novosibirsk\\n'] <class 'list'>\n",
      "['', ' Sergey', ' Nikolaev', ' 1294375', ' Sarov\\n'] <class 'list'>\n",
      "['', ' Ivan', ' Ivanov', ' 8532354', ' Kazan\\n'] <class 'list'>\n",
      "['', ' Konstantin', ' Semenov', ' 8532286', ' Moscow\\n'] <class 'list'>\n",
      "['', ' Grigoriy', ' Smirnov', ' 3249235', ' Kaliningrad\\n'] <class 'list'>\n",
      "['', ' Vasiliy', ' ', ' 7123465', ' Moscow\\n'] <class 'list'>\n",
      "['', ' Alexandr', ' Lashko', ' 9548324', ' St.Petersburg\\n'] <class 'list'>\n",
      "['', ' sdfsdf', ' dwfef', ' 9994532', ' Rostov\\n'] <class 'list'>\n",
      "['', ' Oksana', ' Edger', ' 8548433', ' Kostroma\\n'] <class 'list'>\n",
      "['', ' Olga', ' Bogomolova', ' 8953253', ' Moscow\\n'] <class 'list'>\n",
      "['', ' Evgeniy', ' Strizh', ' 1123313', ' Krasnodar\\n'] <class 'list'>\n",
      "['', ' Valentina', ' Sergach', ' 12345567', ' St.Petersburg\\n'] <class 'list'>\n",
      "['', ' Polina', ' Volskaya', ' 1394542', ' Vladimir\\n'] <class 'list'>\n",
      "['', ' Fedor', ' Malinin', ' 9453223', ' Moscow\\n'] <class 'list'>\n",
      "['', ' Olga', ' Pahomova', ' 8543231', ' Moscow\\n'] <class 'list'>\n",
      "['', ' ffff', ' ffff', ' ffff', ' fffff\\n'] <class 'list'>\n",
      "['', ' Stepan', ' Bogdanov', ' 4564624', ' St.Petersburg\\n'] <class 'list'>\n",
      "['', ' Dmitriy', ' Smirnov', ' 9355r24', ' Kazan\\n'] <class 'list'>\n",
      "['', ' Valeria', ' Kolokolkina', ' 12O4352', ' St.Petersburg\\n'] <class 'list'>\n",
      "['', ' Ivan', ' Sobolev', ' 2350223', ' Kirov\\n'] <class 'list'>\n",
      "['', ' Kristina', ' Orlova', ' 1342349', ' Talnakh\\n'] <class 'list'>\n",
      "['', ' Alexandr', ' Ermolin', ' 2345234', ' Mozhaysk\\n'] <class 'list'>\n",
      "['', ' Ekaterina', ' Vasilevskaya', ' 9583573', ' Moscow\\n'] <class 'list'>\n",
      "['', ' Tatiana', ' Koroleva', ' 8674532', ' Vidnoe\\n'] <class 'list'>\n",
      "['', ' Elena', ' Moskvina', ' 7584294', ' Moscow\\n'] <class 'list'>\n",
      "['', ' ', ' ', ' 8954245', ' Moscow\\n'] <class 'list'>\n",
      "['', ' Mikhail', ' Sinev', ' 5964353', ' St.Petersburg\\n'] <class 'list'>\n",
      "['', ' NO_NAME', ' NO_NAME', ' 2856735', ' Kaliningrad\\n'] <class 'list'>\n",
      "['', ' Anastasiya', ' Boshich', ' 9654534', ' Omsk\\n'] <class 'list'>\n",
      "['', ' Svetlana', ' Kapustina', ' 9476353', ' Moscow\\n'] <class 'list'>\n",
      "['', ' Boris', ' Nikolaev', ' 9583583', ' Moscow\\n'] <class 'list'>\n",
      "['', ' Andrey', ' Mozgvin', ' 8537572', ' Krasnodar\\n'] <class 'list'>\n",
      "['', ' Oksana', ' Bogatyreva', ' 8743565', ' St.Petersburg\\n'] <class 'list'>\n",
      "['', ' Kseniya', ' Nosatenko', ' 1234194', ' Yaroslavl\\n'] <class 'list'>\n",
      "['', ' fwefwgwgwfds', ' sfewrfw', ' 9584356', ' Pskov\\n'] <class 'list'>\n",
      "['', ' Konstantin', ' Grigoriev', ' 1284575', ' Moscow\\n'] <class 'list'>\n"
     ]
    }
   ],
   "source": [
    "f = open(\"temp/task_file.txt\")\n",
    "\n",
    "print (type (f))\n",
    "\n",
    "for i in f:\n",
    "    #print (i)\n",
    "    fl=i.split(',')\n",
    "    print (fl, type (fl))\n",
    "    "
   ]
  },
  {
   "cell_type": "code",
   "execution_count": null,
   "metadata": {},
   "outputs": [],
   "source": [
    "def email_gen(list_of_names):\n",
    "    emails = []\n",
    "    for i in list_of_names:\n",
    "        letter = 1\n",
    "        while i[1] + '.' + i[0][0:letter] + '@company.io' in emails:\n",
    "            letter+=1\n",
    "        emails.append(i[1] + '.' + i[0][0:letter] + '@company.io')\n",
    "    return emails"
   ]
  },
  {
   "cell_type": "code",
   "execution_count": 4,
   "metadata": {},
   "outputs": [
    {
     "name": "stdout",
     "output_type": "stream",
     "text": [
      " 1284575\n"
     ]
    }
   ],
   "source": [
    "for i in f:\n",
    "    fl=i.split(',')\n",
    "    if \n",
    "    "
   ]
  }
 ],
 "metadata": {
  "kernelspec": {
   "display_name": "Python 3",
   "language": "python",
   "name": "python3"
  },
  "language_info": {
   "codemirror_mode": {
    "name": "ipython",
    "version": 3
   },
   "file_extension": ".py",
   "mimetype": "text/x-python",
   "name": "python",
   "nbconvert_exporter": "python",
   "pygments_lexer": "ipython3",
   "version": "3.8.5"
  }
 },
 "nbformat": 4,
 "nbformat_minor": 2
}
