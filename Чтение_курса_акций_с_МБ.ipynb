{
  "nbformat": 4,
  "nbformat_minor": 0,
  "metadata": {
    "colab": {
      "name": "Чтение курса акций с МБ.ipynb",
      "provenance": [],
      "authorship_tag": "ABX9TyNXyRUOv1zl8jtwpVjwIJWp",
      "include_colab_link": true
    },
    "kernelspec": {
      "name": "python3",
      "display_name": "Python 3"
    },
    "language_info": {
      "name": "python"
    }
  },
  "cells": [
    {
      "cell_type": "markdown",
      "metadata": {
        "id": "view-in-github",
        "colab_type": "text"
      },
      "source": [
        "<a href=\"https://colab.research.google.com/github/AVStrelnikov/LearnPython/blob/master/%D0%A7%D1%82%D0%B5%D0%BD%D0%B8%D0%B5_%D0%BA%D1%83%D1%80%D1%81%D0%B0_%D0%B0%D0%BA%D1%86%D0%B8%D0%B9_%D1%81_%D0%9C%D0%91.ipynb\" target=\"_parent\"><img src=\"https://colab.research.google.com/assets/colab-badge.svg\" alt=\"Open In Colab\"/></a>"
      ]
    },
    {
      "cell_type": "code",
      "metadata": {
        "id": "NjLHvl3jKUpk"
      },
      "source": [
        "import pandas as pd\n",
        "import seaborn as sns"
      ],
      "execution_count": 1,
      "outputs": []
    },
    {
      "cell_type": "code",
      "metadata": {
        "id": "Mg6j9vZ0LHYU"
      },
      "source": [
        "ticker = 'SBER'\n",
        "from_ = '2021-05-01'\n",
        "till = '2021-05-31'\n",
        "interval = 24"
      ],
      "execution_count": 2,
      "outputs": []
    },
    {
      "cell_type": "code",
      "metadata": {
        "id": "dz9RuskKLLNq"
      },
      "source": [
        "query = f'http://iss.moex.com/iss/engines/stock/markets/shares/securities/{ticker}/candles.csv?from={from_}&till={till}&interval={interval}'    \n",
        "df = pd.read_csv(query, sep=';', header=1)"
      ],
      "execution_count": 5,
      "outputs": []
    },
    {
      "cell_type": "code",
      "metadata": {
        "colab": {
          "base_uri": "https://localhost:8080/"
        },
        "id": "Hkqvx0DHLSFA",
        "outputId": "d78b0ca0-d145-427b-f6e3-d513abfc65ee"
      },
      "source": [
        "print (df)"
      ],
      "execution_count": 8,
      "outputs": [
        {
          "output_type": "stream",
          "text": [
            "                       open   close  ...  ticker       month\n",
            "end                                  ...                    \n",
            "2021-05-04 23:59:59  298.70  303.70  ...    SBER  2021-05-01\n",
            "2021-05-05 23:59:59  304.01  305.99  ...    SBER  2021-05-01\n",
            "2021-05-06 23:59:59  306.29  314.72  ...    SBER  2021-05-01\n",
            "2021-05-07 23:59:59  316.00  317.94  ...    SBER  2021-05-01\n",
            "2021-05-10 23:59:59  318.26  320.19  ...    SBER  2021-05-01\n",
            "2021-05-11 23:59:59  303.00  307.16  ...    SBER  2021-05-01\n",
            "2021-05-12 23:59:59  307.39  302.02  ...    SBER  2021-05-01\n",
            "2021-05-13 23:59:59  302.11  306.74  ...    SBER  2021-05-01\n",
            "2021-05-14 23:59:59  308.20  304.10  ...    SBER  2021-05-01\n",
            "2021-05-17 23:59:59  303.50  303.94  ...    SBER  2021-05-01\n",
            "2021-05-18 23:59:59  305.01  305.78  ...    SBER  2021-05-01\n",
            "2021-05-19 23:59:59  304.38  297.00  ...    SBER  2021-05-01\n",
            "2021-05-20 23:59:59  297.94  296.72  ...    SBER  2021-05-01\n",
            "2021-05-21 23:59:59  296.85  301.23  ...    SBER  2021-05-01\n",
            "2021-05-24 23:59:59  302.02  300.70  ...    SBER  2021-05-01\n",
            "2021-05-25 23:59:59  301.77  306.80  ...    SBER  2021-05-01\n",
            "2021-05-26 23:59:59  307.84  307.01  ...    SBER  2021-05-01\n",
            "2021-05-27 23:59:59  306.39  312.72  ...    SBER  2021-05-01\n",
            "2021-05-28 23:59:59  313.30  309.56  ...    SBER  2021-05-01\n",
            "\n",
            "[19 rows x 9 columns]\n"
          ],
          "name": "stdout"
        }
      ]
    },
    {
      "cell_type": "code",
      "metadata": {
        "id": "2EJavu8ILPaJ"
      },
      "source": [
        "df['ticker'] = ticker\n",
        "df['month'] = pd.to_datetime(df['end']).dt.strftime('%Y-%m-01')\n",
        "\n",
        "df.set_index('end', inplace=True)"
      ],
      "execution_count": 7,
      "outputs": []
    },
    {
      "cell_type": "code",
      "metadata": {
        "id": "Aw4ay9NGPRw4"
      },
      "source": [
        ""
      ],
      "execution_count": null,
      "outputs": []
    }
  ]
}